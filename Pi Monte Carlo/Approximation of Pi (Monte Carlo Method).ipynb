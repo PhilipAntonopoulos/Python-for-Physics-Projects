{
 "cells": [
  {
   "cell_type": "markdown",
   "metadata": {},
   "source": [
    "# Approximation of $\\pi$\n",
    "##### Philip Antonopoulos July 2021\n",
    " \n",
    "1) Generate points -1 < n < 1 <br>\n",
    "2) Calculate their distance by $r = \\sqrt{x^2 + y^2}$ <br> \n",
    "3) If r > 1 make red, else make it blue \\ <br>\n",
    "4) Calculate $pi$ by the following process:\n",
    "   * $\\frac{N_c}{N_{total}} = \\frac{A_c}{A_s}\\iff $\n",
    "   *$\\pi = \\frac{4N_c}{N_{total}}$\n",
    "   "
   ]
  },
  {
   "cell_type": "code",
   "execution_count": 32,
   "metadata": {},
   "outputs": [
    {
     "name": "stdout",
     "output_type": "stream",
     "text": [
      "3.1204\n"
     ]
    },
    {
     "data": {
      "image/png": "[encoded data removed]",
      "text/plain": [
       "<Figure size 432x288 with 1 Axes>"
      ]
     },
     "metadata": {
      "needs_background": "light"
     },
     "output_type": "display_data"
    }
   ],
   "source": [
    "import numpy as np\n",
    "import matplotlib.pyplot as plt\n",
    "\n",
    "N_f = 10000\n",
    "\n",
    "x = np.random.uniform(-1,1,N_f)\n",
    "y = np.random.uniform(-1,1,N_f)\n",
    "\n",
    "x_in = []\n",
    "y_in = []\n",
    "x_out = []\n",
    "y_out = []\n",
    "\n",
    "for i in x:\n",
    "    if np.sqrt(i**2 + y[list(x).index(i)]**2) <= 1:\n",
    "        x_in.append(i)\n",
    "        y_in.append(y[list(x).index(i)])\n",
    "    else:\n",
    "        x_out.append(i)\n",
    "        y_out.append(y[list(x).index(i)])\n",
    "        \n",
    "fig, ax = plt.subplots()\n",
    "\n",
    "ax.plot(x_in,y_in, 'ro')\n",
    "ax.plot(x_out,y_out, 'bo')\n",
    "circle = plt.Circle((0, 0), 1, color='black',fill=False)\n",
    "\n",
    "ax.add_patch(circle)\n",
    "plt.xlim([-1,1])\n",
    "plt.ylim([-1,1])  \n",
    "ax.axis(\"equal\")\n",
    "\n",
    "pi = (4*len(x_in))/(len(x_in)+len(x_out))\n",
    "print(pi) \n",
    "#print(x_in,y_in,x_out,y_out)\n",
    "\n"
   ]
  },
  {
   "cell_type": "markdown",
   "metadata": {},
   "source": [
    "* Make a plot of the approximation of pi compared to the sampling points\n"
   ]
  },
  {
   "cell_type": "code",
   "execution_count": 54,
   "metadata": {
    "scrolled": true
   },
   "outputs": [
    {
     "data": {
      "text/plain": [
       "[<matplotlib.lines.Line2D at 0x17a29178>]"
      ]
     },
     "execution_count": 54,
     "metadata": {},
     "output_type": "execute_result"
    },
    {
     "data": {
      "image/png": "[encoded data removed]",
      "text/plain": [
       "<Figure size 432x288 with 1 Axes>"
      ]
     },
     "metadata": {
      "needs_background": "light"
     },
     "output_type": "display_data"
    }
   ],
   "source": [
    "approx = []\n",
    "points = [10,100,1000,2000,3000,10000]\n",
    "for i in points:\n",
    "    x = np.random.uniform(-1,1,i)\n",
    "    y = np.random.uniform(-1,1,i)\n",
    "    x_in = []\n",
    "    x_out = []\n",
    "    for i in x:\n",
    "        if np.sqrt(i**2 + y[list(x).index(i)]**2) <= 1:\n",
    "            x_in.append(i)\n",
    "        else:\n",
    "            x_out.append(i)\n",
    "    approx.append((4*len(x_in))/(len(x_in)+len(x_out)))\n",
    "    i = i*10\n",
    "\n",
    "fig , ax = plt.subplots()\n",
    "\n",
    "xs = [0,10000]\n",
    "ax.plot(xs,[np.pi,np.pi],'--',color = 'red')\n",
    "\n",
    "ax.plot(points, approx, 'ro')\n"
   ]
  },
  {
   "cell_type": "markdown",
   "metadata": {},
   "source": [
    "* Estimate the error as a function of the points generated"
   ]
  },
  {
   "cell_type": "code",
   "execution_count": null,
   "metadata": {},
   "outputs": [],
   "source": [
    "import numpy as np\n",
    "def pierror(N):\n",
    "    x = np.random.uniform(-1,1,N)\n",
    "    y = np.random.uniform(-1,1,N)\n",
    "    x_in = []\n",
    "    x_out = []\n",
    "    for i in x:\n",
    "        if np.sqrt(i**2 + y[list(x).index(i)]**2) <= 1:\n",
    "            x_in.append(i)\n",
    "        else:\n",
    "            x_out.append(i)\n",
    "    pia = (4*len(x_in))/(len(x_in)+len(x_out))\n",
    "    error = abs(np.pi - pia) / np.pi\n",
    "    return error*100\n",
    "\n",
    "print(\"The error estimation is: \",pierror(100000),\"%\")\n",
    "    "
   ]
  },
  {
   "cell_type": "markdown",
   "metadata": {},
   "source": [
    "1) Plot the histograms of the collected approximations for pi <br>\n",
    "2) Find the average value and plot it <br>\n",
    "3) Find the standard deviation and plot -$\\sigma$ and $\\sigma$ "
   ]
  },
  {
   "cell_type": "code",
   "execution_count": 1,
   "metadata": {
    "scrolled": true
   },
   "outputs": [
    {
     "name": "stdout",
     "output_type": "stream",
     "text": [
      "3.1375755689124367 0.026489482901119375\n"
     ]
    },
    {
     "data": {
      "text/plain": [
       "(array([1., 1., 0., 0., 0., 0., 1., 5., 0., 2., 2., 2., 1., 2., 2., 3., 3.,\n",
       "        0., 4., 2., 2., 1., 1., 0., 0., 0., 0., 0., 0., 1.]),\n",
       " array([3.0768    , 3.08117333, 3.08554667, 3.08992   , 3.09429333,\n",
       "        3.09866667, 3.10304   , 3.10741333, 3.11178667, 3.11616   ,\n",
       "        3.12053333, 3.12490667, 3.12928   , 3.13365333, 3.13802667,\n",
       "        3.1424    , 3.14677333, 3.15114667, 3.15552   , 3.15989333,\n",
       "        3.16426667, 3.16864   , 3.17301333, 3.17738667, 3.18176   ,\n",
       "        3.18613333, 3.19050667, 3.19488   , 3.19925333, 3.20362667,\n",
       "        3.208     ]),\n",
       " <BarContainer object of 30 artists>)"
      ]
     },
     "execution_count": 1,
     "metadata": {},
     "output_type": "execute_result"
    },
    {
     "data": {
      "image/png": "[encoded data removed]",
      "text/plain": [
       "<Figure size 432x288 with 1 Axes>"
      ]
     },
     "metadata": {
      "needs_background": "light"
     },
     "output_type": "display_data"
    }
   ],
   "source": [
    "import numpy as np\n",
    "import matplotlib.pyplot as plt\n",
    "def findpi(N):\n",
    "    x = np.random.uniform(-1,1,N)\n",
    "    y = np.random.uniform(-1,1,N)\n",
    "    x_in = []\n",
    "    x_out = []\n",
    "    for i in x:\n",
    "        if np.sqrt(i**2 + y[list(x).index(i)]**2) <= 1:\n",
    "            x_in.append(i)\n",
    "        else:\n",
    "            x_out.append(i)\n",
    "    \n",
    "    pia = (4*len(x_in))/(len(x_in)+len(x_out))\n",
    "    \n",
    "    return pia\n",
    "\n",
    "x = np.arange(1000,10000,250)\n",
    "y = []\n",
    "for i in x:\n",
    "    y.append(findpi(i))\n",
    "    \n",
    "print(np.mean(y),np.std(y))\n",
    "\n",
    "plt.plot([np.mean(y),np.mean(y)],[0, 5], '--', color = 'blue')\n",
    "\n",
    "plt.plot([np.mean(y)+np.std(y),np.mean(y)+np.std(y)],[0, 5], '--', color = 'red')\n",
    "\n",
    "plt.plot([np.mean(y)-np.std(y),np.mean(y)-np.std(y)],[0, 5], '--', color = 'red')\n",
    "\n",
    "\n",
    "\n",
    "plt.hist(y, bins = 30)"
   ]
  },
  {
   "cell_type": "markdown",
   "metadata": {},
   "source": [
    "* Write your own mean and standard deviation functions"
   ]
  },
  {
   "cell_type": "code",
   "execution_count": 1,
   "metadata": {},
   "outputs": [
    {
     "name": "stdout",
     "output_type": "stream",
     "text": [
      "The numpy function's mean:  25.285714285714285\n",
      "My function's mean:  25.285714285714285\n",
      "The numpy function's standard deviation:  37.06172457632576\n",
      "My function's standard deviation 37.06172457632576\n"
     ]
    }
   ],
   "source": [
    "import numpy as np\n",
    "\n",
    "l = [1,2,3,5,94,61,11]\n",
    "\n",
    "def mean(l):\n",
    "    sum = 0\n",
    "    for i in l:\n",
    "        sum += i\n",
    "    mean = sum / len(l)\n",
    "    return mean\n",
    "\n",
    "x = np.mean(l)\n",
    "\n",
    "print(\"The numpy function's mean: \", x)\n",
    "print(\"My function's mean: \" , mean(l))\n",
    "\n",
    "def std(l):\n",
    "    pardev = 0\n",
    "    for i in l:\n",
    "        pardev += (i - x)**2\n",
    "    std = np.sqrt( pardev / (len(l)-1) ) \n",
    "    return std\n",
    "y = np.std(l, ddof = 1)\n",
    "print(\"The numpy function's standard deviation: \",y)\n",
    "print(\"My function's standard deviation\", std(l))\n"
   ]
  },
  {
   "cell_type": "code",
   "execution_count": 1,
   "metadata": {},
   "outputs": [
    {
     "name": "stdout",
     "output_type": "stream",
     "text": [
      "3.141638\n"
     ]
    }
   ],
   "source": [
    "import numpy as np\n",
    "\n",
    "N = 10000000\n",
    "x_in = 0\n",
    "\n",
    "for i in range(0,N,1):\n",
    "    x = float(np.random.uniform(-1,1,1))\n",
    "    y = float(np.random.uniform(-1,1,1))\n",
    "    if (np.sqrt(x**2 + y**2)) <= 1:\n",
    "        x_in += 1\n",
    "        \n",
    "pi = 4*x_in / N\n",
    "print(pi)"
   ]
  }
 ],
 "metadata": {
  "kernelspec": {
   "display_name": "Python 3",
   "language": "python",
   "name": "python3"
  },
  "language_info": {
   "codemirror_mode": {
    "name": "ipython",
    "version": 3
   },
   "file_extension": ".py",
   "mimetype": "text/x-python",
   "name": "python",
   "nbconvert_exporter": "python",
   "pygments_lexer": "ipython3",
   "version": "3.8.8"
  }
 },
 "nbformat": 4,
 "nbformat_minor": 4
}
